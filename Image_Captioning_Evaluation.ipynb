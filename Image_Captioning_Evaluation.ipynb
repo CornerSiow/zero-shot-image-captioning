{
  "nbformat": 4,
  "nbformat_minor": 0,
  "metadata": {
    "colab": {
      "provenance": [],
      "collapsed_sections": []
    },
    "kernelspec": {
      "name": "python3",
      "display_name": "Python 3"
    },
    "language_info": {
      "name": "python"
    }
  },
  "cells": [
    {
      "cell_type": "code",
      "source": [
        "!git clone https://github.com/CornerSiow/zero-shot-image-captioning.git\n",
        "!pip install pycocoevalcap"
      ],
      "metadata": {
        "id": "ZNaaBttv6l-L"
      },
      "execution_count": null,
      "outputs": []
    },
    {
      "cell_type": "code",
      "source": [
        "import re\n",
        "import io\n",
        "import json\n",
        "import sys\n",
        "from pycocotools.coco import COCO\n",
        "from pycocoevalcap.eval import COCOEvalCap"
      ],
      "metadata": {
        "id": "wAZOgYAhaKp8"
      },
      "execution_count": null,
      "outputs": []
    },
    {
      "cell_type": "code",
      "source": [
        "def generateReferenceFile(filename):\n",
        "  info = {\"year\" : 2022, \"version\" : '1',\n",
        "            \"description\" : 'Evaluate Captions',\n",
        "            \"contributor\" : 'Corner Siow',\n",
        "            \"url\" : 'https://github.com/CornerSiow/zero-shot-image-captioning',\n",
        "            \"date_created\" : ''}\n",
        "  licenses = [{\"id\" : 1,\"name\" : \"\",\"url\" : \"\",}]\n",
        "  res = {\"info\" : info, \"type\" : 'captions',\n",
        "         \"images\" :  [], \"annotations\" : [],\n",
        "         \"licenses\" : licenses,}\n",
        "  count = 0\n",
        "  images = []\n",
        "  annotations = []\n",
        "\n",
        "  with open(filename,'r') as opfd:\n",
        "    for line in opfd:\n",
        "      count +=1\n",
        "      data = line.strip().split('\\t')\n",
        "      assert len(data)==2\n",
        "      caption = data[1]\n",
        "      id = count\n",
        "      \n",
        "      images.append({\n",
        "          \"id\" : id, \"width\" : 0, \"height\" : 0, \n",
        "          \"file_name\" : data[0], \"license\" : '', \n",
        "          \"url\" : data[0], \"date_captured\" : ''})\n",
        "      annotations.append({\n",
        "          \"id\" : len(annotations)+1,\n",
        "          \"image_id\" : id,\n",
        "          \"caption\" : caption,\n",
        "          })\n",
        "  res[\"images\"] = images\n",
        "  res[\"annotations\"] = annotations\n",
        "  outputFileName = filename.split('/')[-1].split('.')[0] + \".json\"\n",
        "  with io.open(outputFileName, 'w', encoding='utf-8') as fd:\n",
        "      fd.write(json.dumps(res, ensure_ascii=True,sort_keys=True,indent=2,separators=(',', ': ')))\n",
        "  imagesIDList = {}\n",
        "  for v in images:\n",
        "    imagesIDList[v['file_name']] = v['id']\n",
        "  return imagesIDList, outputFileName"
      ],
      "metadata": {
        "id": "m-HeeZ2I7ovH"
      },
      "execution_count": null,
      "outputs": []
    },
    {
      "cell_type": "code",
      "source": [
        "def generatePredictionFile(filename, imagesIDList):\n",
        "  count = 0\n",
        "  res = []\n",
        "  with open(filename,'r') as opfd:\n",
        "    for line in opfd:\n",
        "      count +=1\n",
        "      data = line.strip().split('\\t')\n",
        "      assert len(data) == 2\n",
        "      caption = data[1]\n",
        "      id = imagesIDList[data[0]]\n",
        "      res.append({\"image_id\":id,\"caption\":caption})\n",
        "  outputFileName = filename.split('/')[-1].split('.')[0] + \".json\"\n",
        "  with io.open(outputFileName, 'w', encoding='utf-8') as fd:\n",
        "      fd.write(json.dumps(res, ensure_ascii=True,sort_keys=True,indent=2,separators=(',', ': ')))\n",
        "  return outputFileName"
      ],
      "metadata": {
        "id": "UYVhNeAlCFhR"
      },
      "execution_count": null,
      "outputs": []
    },
    {
      "cell_type": "code",
      "source": [
        "imagesIDList, referenceFile = generateReferenceFile(\"/content/zero-shot-image-captioning/data/image_caption.txt\")\n",
        "predictionFile = generatePredictionFile(\"/content/zero-shot-image-captioning/data/captioning_result_with_RVS.txt\", imagesIDList)    \n",
        "# create coco object and cocoRes object\n",
        "coco = COCO(referenceFile)\n",
        "cocoRes = coco.loadRes(predictionFile)\n",
        "# create cocoEval object by taking coco and cocoRes\n",
        "cocoEval = COCOEvalCap(coco, cocoRes)\n",
        "# evaluate results\n",
        "# SPICE will take a few minutes the first time, but speeds up due to caching\n",
        "cocoEval.evaluate()\n",
        "# print output evaluation scores\n",
        "print(\"---------------------------------------------------------\")\n",
        "for metric, score in cocoEval.eval.items():\n",
        "    print ('%s: %.3f'%(metric, score))"
      ],
      "metadata": {
        "colab": {
          "base_uri": "https://localhost:8080/"
        },
        "id": "8VzGLNR5We-s",
        "outputId": "af6fc94a-31b2-4468-9196-1e0c441d5468"
      },
      "execution_count": null,
      "outputs": [
        {
          "output_type": "stream",
          "name": "stdout",
          "text": [
            "loading annotations into memory...\n",
            "Done (t=0.00s)\n",
            "creating index...\n",
            "index created!\n",
            "Loading and preparing results...\n",
            "DONE (t=0.00s)\n",
            "creating index...\n",
            "index created!\n",
            "tokenization...\n",
            "setting up scorers...\n",
            "computing Bleu score...\n",
            "{'testlen': 84, 'reflen': 84, 'guess': [84, 74, 64, 54], 'correct': [84, 74, 64, 54]}\n",
            "ratio: 0.9999999999880952\n",
            "Bleu_1: 1.000\n",
            "Bleu_2: 1.000\n",
            "Bleu_3: 1.000\n",
            "Bleu_4: 1.000\n",
            "computing METEOR score...\n",
            "METEOR: 1.000\n",
            "computing Rouge score...\n",
            "ROUGE_L: 1.000\n",
            "computing CIDEr score...\n",
            "CIDEr: 10.000\n",
            "computing SPICE score...\n",
            "SPICE: 1.000\n",
            "---------------------------------------------------------\n",
            "Bleu_1: 1.000\n",
            "Bleu_2: 1.000\n",
            "Bleu_3: 1.000\n",
            "Bleu_4: 1.000\n",
            "METEOR: 1.000\n",
            "ROUGE_L: 1.000\n",
            "CIDEr: 10.000\n",
            "SPICE: 1.000\n"
          ]
        }
      ]
    },
    {
      "cell_type": "code",
      "source": [
        "imagesIDList, referenceFile = generateReferenceFile(\"/content/zero-shot-image-captioning/data/image_caption.txt\")\n",
        "predictionFile = generatePredictionFile(\"/content/zero-shot-image-captioning/data/captioning_result_without_RVS.txt\", imagesIDList)    \n",
        "# create coco object and cocoRes object\n",
        "coco = COCO(referenceFile)\n",
        "cocoRes = coco.loadRes(predictionFile)\n",
        "# create cocoEval object by taking coco and cocoRes\n",
        "cocoEval = COCOEvalCap(coco, cocoRes)\n",
        "# evaluate results\n",
        "# SPICE will take a few minutes the first time, but speeds up due to caching\n",
        "cocoEval.evaluate()\n",
        "# print output evaluation scores\n",
        "print(\"---------------------------------------------------------\")\n",
        "for metric, score in cocoEval.eval.items():\n",
        "    print ('%s: %.3f'%(metric, score))"
      ],
      "metadata": {
        "colab": {
          "base_uri": "https://localhost:8080/"
        },
        "id": "ObMs3-U3mrxb",
        "outputId": "b91ea6db-8b1f-472f-b5d2-7ccce8190a06"
      },
      "execution_count": null,
      "outputs": [
        {
          "output_type": "stream",
          "name": "stdout",
          "text": [
            "loading annotations into memory...\n",
            "Done (t=0.00s)\n",
            "creating index...\n",
            "index created!\n",
            "Loading and preparing results...\n",
            "DONE (t=0.00s)\n",
            "creating index...\n",
            "index created!\n",
            "tokenization...\n",
            "setting up scorers...\n",
            "computing Bleu score...\n",
            "{'testlen': 88, 'reflen': 84, 'guess': [88, 78, 68, 58], 'correct': [78, 64, 52, 44]}\n",
            "ratio: 1.0476190476065759\n",
            "Bleu_1: 0.886\n",
            "Bleu_2: 0.853\n",
            "Bleu_3: 0.822\n",
            "Bleu_4: 0.806\n",
            "computing METEOR score...\n",
            "METEOR: 0.585\n",
            "computing Rouge score...\n",
            "ROUGE_L: 0.891\n",
            "computing CIDEr score...\n",
            "CIDEr: 8.099\n",
            "computing SPICE score...\n",
            "SPICE: 0.889\n",
            "---------------------------------------------------------\n",
            "Bleu_1: 0.886\n",
            "Bleu_2: 0.853\n",
            "Bleu_3: 0.822\n",
            "Bleu_4: 0.806\n",
            "METEOR: 0.585\n",
            "ROUGE_L: 0.891\n",
            "CIDEr: 8.099\n",
            "SPICE: 0.889\n"
          ]
        }
      ]
    }
  ]
}