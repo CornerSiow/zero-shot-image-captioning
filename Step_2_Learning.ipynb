{
  "nbformat": 4,
  "nbformat_minor": 0,
  "metadata": {
    "colab": {
      "provenance": [],
      "authorship_tag": "ABX9TyO+2KewzWRXebpptwkQ3VY1"
    },
    "kernelspec": {
      "name": "python3",
      "display_name": "Python 3"
    },
    "language_info": {
      "name": "python"
    }
  },
  "cells": [
    {
      "cell_type": "code",
      "source": [
        "!git clone https://github.com/CornerSiow/zero-shot-image-captioning.git"
      ],
      "metadata": {
        "colab": {
          "base_uri": "https://localhost:8080/"
        },
        "id": "-S8oEdK1Wgy5",
        "outputId": "2c43b48d-1b38-4bd4-953d-9cc8d5e2ea3e"
      },
      "execution_count": null,
      "outputs": [
        {
          "output_type": "stream",
          "name": "stdout",
          "text": [
            "Cloning into 'zero-shot-image-captioning'...\n",
            "remote: Enumerating objects: 151, done.\u001b[K\n",
            "remote: Counting objects: 100% (62/62), done.\u001b[K\n",
            "remote: Compressing objects: 100% (62/62), done.\u001b[K\n",
            "remote: Total 151 (delta 29), reused 0 (delta 0), pack-reused 89\u001b[K\n",
            "Receiving objects: 100% (151/151), 74.78 MiB | 32.64 MiB/s, done.\n",
            "Resolving deltas: 100% (68/68), done.\n",
            "mv: cannot stat 'zero-shot-image-captioning/Vocabulary.py': No such file or directory\n"
          ]
        }
      ]
    },
    {
      "cell_type": "code",
      "source": [
        "!cp \"zero-shot-image-captioning/code/Vocabulary.py\" \"Vocabulary.py\"\n",
        "!cp \"zero-shot-image-captioning/code/DecoderLSTM.py\" \"DecoderLSTM.py\""
      ],
      "metadata": {
        "id": "DYoW7AFXgBsq"
      },
      "execution_count": null,
      "outputs": []
    },
    {
      "cell_type": "code",
      "source": [
        "import torch\n",
        "import torch.nn as nn\n",
        "from tqdm import tqdm\n",
        "import pickle\n",
        "from torch.utils.data import DataLoader\n",
        "from Vocabulary import Vocabulary\n",
        "from DecoderLSTM import DecoderLSTM\n",
        "import random\n",
        "import numpy as np\n",
        "random.seed(10)\n",
        "torch.manual_seed(10)\n",
        "np.random.seed(10)"
      ],
      "metadata": {
        "id": "xJ7AOGRVanil"
      },
      "execution_count": null,
      "outputs": []
    },
    {
      "cell_type": "code",
      "execution_count": null,
      "metadata": {
        "id": "HibEXUWZWQ_Q"
      },
      "outputs": [],
      "source": [
        "vocab = Vocabulary()\n",
        "vocab.loadFile(\"zero-shot-image-captioning/data/vocab.pickle\")"
      ]
    },
    {
      "cell_type": "code",
      "source": [
        "with open('zero-shot-image-captioning/data/filtered_symbolic.pickle', 'rb') as handle:\n",
        "    filtered_symbolic = pickle.load(handle)  \n",
        "with open('zero-shot-image-captioning/data/training_data.pickle', 'rb') as handle:\n",
        "    dataList= pickle.load(handle)"
      ],
      "metadata": {
        "id": "AuaFlN2hahpw"
      },
      "execution_count": null,
      "outputs": []
    },
    {
      "cell_type": "code",
      "source": [
        "def collate_fn(data):\n",
        "    x = []\n",
        "    y = []\n",
        "    for _x, _y in data:\n",
        "        x.append(_x.float())\n",
        "        y.append(_y)        \n",
        "    y = torch.nn.utils.rnn.pad_sequence(y, batch_first=True)\n",
        "    return torch.vstack(x), y\n",
        "\n",
        "print(\"Total Training Data: \", len(dataList));\n",
        "trainLoader = DataLoader(dataList, batch_size = 1, shuffle = True, collate_fn =collate_fn)"
      ],
      "metadata": {
        "colab": {
          "base_uri": "https://localhost:8080/"
        },
        "id": "YAE4EevUd3BG",
        "outputId": "50d26ce4-f126-4eb4-9fad-2c18aac65d94"
      },
      "execution_count": null,
      "outputs": [
        {
          "output_type": "stream",
          "name": "stdout",
          "text": [
            "Total Training Data:  5\n"
          ]
        }
      ]
    },
    {
      "cell_type": "code",
      "source": [
        "with_RVS = True\n",
        "vocab_size = len(vocab)\n",
        "embed_size = len(filtered_symbolic)\n",
        "hidden_size = 256\n",
        "device = torch.device(\"cuda\" if torch.cuda.is_available() else \"cpu\")"
      ],
      "metadata": {
        "id": "0cZL4nVVeCaw"
      },
      "execution_count": null,
      "outputs": []
    },
    {
      "cell_type": "code",
      "source": [
        "decoder = DecoderLSTM(embed_size, hidden_size, vocab_size)\n",
        "decoder.to(device)\n",
        "params = decoder.parameters()\n",
        "criterion = nn.CrossEntropyLoss()\n",
        "criterion.to(device)\n",
        "optimizer = torch.optim.Adam(params, lr=0.001, betas=(0.9,0.999), eps=1e-8)"
      ],
      "metadata": {
        "id": "LplQzaWxgcyg"
      },
      "execution_count": null,
      "outputs": []
    },
    {
      "cell_type": "code",
      "source": [
        "decoder.train()\n",
        "print(\"Start Training\")\n",
        "bar = tqdm(range(1000))\n",
        "for epoch in bar:\n",
        "    totalLoss = 0\n",
        "    for x, y in trainLoader:       \n",
        "        if with_RVS:\n",
        "          r = torch.rand(x.shape)        \n",
        "          x = r * x\n",
        "        \n",
        "        decoder.zero_grad()\n",
        "        outputs = decoder(x.to(device), y.to(device))\n",
        "        loss = criterion(outputs.view(-1, vocab_size), y.view(-1).to(device))\n",
        "        loss.backward()\n",
        "        optimizer.step()\n",
        "        totalLoss += loss.item()\n",
        "        bar.set_description(\"Epoch:{:d} Loss:{:.4f}\".format(epoch, totalLoss))"
      ],
      "metadata": {
        "colab": {
          "base_uri": "https://localhost:8080/"
        },
        "id": "0vnPJpUDgpDq",
        "outputId": "ef5d828f-8668-4638-f955-ab0a79dd30a5"
      },
      "execution_count": null,
      "outputs": [
        {
          "output_type": "stream",
          "name": "stdout",
          "text": [
            "Start Training\n"
          ]
        },
        {
          "output_type": "stream",
          "name": "stderr",
          "text": [
            "Epoch:999 Loss:0.0402: 100%|██████████| 1000/1000 [01:35<00:00, 10.50it/s]\n"
          ]
        }
      ]
    },
    {
      "cell_type": "code",
      "source": [
        "print(\"Finish Train\")\n",
        "# save model\n",
        "print(\"Save the model\")\n",
        "torch.save(decoder.state_dict(), 'lstm_decoder.pkl')"
      ],
      "metadata": {
        "colab": {
          "base_uri": "https://localhost:8080/"
        },
        "id": "TKfu9c5phCIV",
        "outputId": "393090d6-bfe2-4582-c5a0-d19f94119636"
      },
      "execution_count": null,
      "outputs": [
        {
          "output_type": "stream",
          "name": "stdout",
          "text": [
            "Finish Train\n",
            "Save the model\n"
          ]
        }
      ]
    }
  ]
}